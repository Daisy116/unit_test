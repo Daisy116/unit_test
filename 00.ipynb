{
 "cells": [
  {
   "cell_type": "code",
   "execution_count": null,
   "metadata": {},
   "outputs": [],
   "source": [
    "cid_num = ['133', '125', '85', '115', '84', '81', '88', '82', '126', '129', '130', '131', '95', '118', '123', '185', '200', '117', '132', '80', '90', '120', '121', '97', '96', '112', '217', '109', '113', '108', '91', '99', '104', '100', '94', '127', '100000000', '110', '89', '244', '103', '102', '243', '105', '226', '101', '227', '114', '186', '93', '100000020', '107', '150', '149', '151', '152', '161', '158', '156', '153', '146', '154', '197', '189', '190', '164', '223', '212', '163', '169', '170', '193', '201', '216', '211', '247', '229', '191', '208', '218', '207', '166', '3', '147', '140', '233', '138', '139', '142', '77', '45', '40', '33', '63', '64', '69', '67', '65', '27', '29', '28', '30', '251', '261', '264', '274', '265', '263']\n",
    "print(cid_num)\n",
    "print(len(cid_num))"
   ]
  },
  {
   "cell_type": "code",
   "execution_count": null,
   "metadata": {},
   "outputs": [],
   "source": [
    "get_lid_url = []\n",
    "for i in cid_num:\n",
    "    get_lid_url.append('http://app.gooooal.com/competition.do?cid=' + i + '&lang=tr')\n",
    "print(len(get_lid_url))"
   ]
  },
  {
   "cell_type": "code",
   "execution_count": null,
   "metadata": {},
   "outputs": [],
   "source": [
    "# 抓lid_name\n",
    "from selenium import webdriver\n",
    "from selenium.webdriver.chrome.options import Options\n",
    "from bs4 import BeautifulSoup\n",
    "from openpyxl import Workbook\n",
    "import time\n",
    "\n",
    "chrome_options = Options()\n",
    "chrome_options.add_argument('--headless')\n",
    "\n",
    "browser = webdriver.Chrome('./chromedriver',chrome_options=chrome_options)\n",
    "# browser.get('http://app.gooooal.com/competition.do?lid=18&sid=2019&pid=22&lang=tr')\n",
    "browser.get('http://app.gooooal.com/competition.do?cid=130&lang=tr')\n",
    "# time.sleep(5)\n",
    "soup = BeautifulSoup(browser.page_source)\n"
   ]
  },
  {
   "cell_type": "code",
   "execution_count": null,
   "metadata": {},
   "outputs": [],
   "source": [
    "from selenium import webdriver\n",
    "from selenium.webdriver.chrome.options import Options\n",
    "from bs4 import BeautifulSoup\n",
    "from openpyxl import Workbook\n",
    "import time\n",
    "\n",
    "chrome_options = Options()\n",
    "chrome_options.add_argument('--headless')"
   ]
  },
  {
   "cell_type": "code",
   "execution_count": null,
   "metadata": {},
   "outputs": [],
   "source": [
    "browser = webdriver.Chrome('./chromedriver',chrome_options=chrome_options)"
   ]
  },
  {
   "cell_type": "code",
   "execution_count": null,
   "metadata": {},
   "outputs": [],
   "source": [
    "browser.get('http://app.gooooal.com/competition.do?cid=130&lang=tr')"
   ]
  },
  {
   "cell_type": "code",
   "execution_count": null,
   "metadata": {},
   "outputs": [],
   "source": [
    "soup = BeautifulSoup(browser.page_source)"
   ]
  },
  {
   "cell_type": "code",
   "execution_count": null,
   "metadata": {},
   "outputs": [],
   "source": [
    "print(soup)"
   ]
  },
  {
   "cell_type": "code",
   "execution_count": null,
   "metadata": {},
   "outputs": [],
   "source": [
    "lid_name = []\n",
    "lid_name2 = []\n",
    "\n",
    "list = []\n",
    "i = 0\n",
    "for ele in soup.select('#div_league span'):\n",
    "#     print(ele.text)\n",
    "    lid_name2.append(ele.text)\n",
    "        \n",
    "\n",
    "for ele in soup.select('#div_league a'):\n",
    "#     print(ele.text)\n",
    "    lid_name.append(ele.text)"
   ]
  },
  {
   "cell_type": "code",
   "execution_count": 1,
   "metadata": {},
   "outputs": [],
   "source": [
    "lid_name = ['瑞典超級聯賽', '常規聯賽', '附加賽', '瑞典甲級聯賽', '常規聯賽', '附加賽', '瑞典乙級聯賽', '北部聯賽', '南部聯賽', '瑞典盃', '瑞典超級盃']\n",
    "lid_name2 = ['瑞典超級聯賽', '瑞典甲級聯賽', '瑞典乙級聯賽', '瑞典盃', '瑞典超級盃']"
   ]
  },
  {
   "cell_type": "code",
   "execution_count": 2,
   "metadata": {},
   "outputs": [
    {
     "name": "stdout",
     "output_type": "stream",
     "text": [
      "['瑞典超級聯賽', '常規聯賽', '附加賽', '瑞典甲級聯賽', '常規聯賽', '附加賽', '瑞典乙級聯賽', '北部聯賽', '南部聯賽', '瑞典盃', '瑞典超級盃']\n",
      "['瑞典超級聯賽', '瑞典甲級聯賽', '瑞典乙級聯賽', '瑞典盃', '瑞典超級盃']\n",
      "['常規聯賽', '附加賽', '常規聯賽', '附加賽', '北部聯賽', '南部聯賽']\n"
     ]
    }
   ],
   "source": [
    "print(lid_name)\n",
    "print(lid_name2)\n",
    "\n",
    "lid_name3 = []\n",
    "for i in lid_name:\n",
    "    if i not in lid_name2:\n",
    "        lid_name3.append(i)\n",
    "print(lid_name3)"
   ]
  },
  {
   "cell_type": "code",
   "execution_count": 11,
   "metadata": {},
   "outputs": [
    {
     "name": "stdout",
     "output_type": "stream",
     "text": [
      "瑞典超級聯賽\n",
      "找不到\n",
      "找不到\n",
      "瑞典甲級聯賽\n",
      "找不到\n",
      "找不到\n",
      "瑞典乙級聯賽\n",
      "找不到\n",
      "找不到\n",
      "瑞典盃\n",
      "瑞典超級盃\n",
      ",100,100,100,1,1\n",
      "['100', '100', '100', '1', '1']\n",
      "3\n",
      "3\n",
      "3\n",
      "1\n",
      "1\n"
     ]
    }
   ],
   "source": [
    "str1 = ''\n",
    "list = []\n",
    "lid_name_all = []\n",
    "header = []\n",
    "for i in range(len(lid_name)):\n",
    "    if lid_name[i] in lid_name2:\n",
    "        print(lid_name[i])\n",
    "        header.append(lid_name[i])\n",
    "        str1 += ',1'\n",
    "        list.append(1)\n",
    "    else:\n",
    "        print('找不到')\n",
    "        str1 += '0'\n",
    "        list.append(0)\n",
    "        lid_name_all.append(lid_name[i])\n",
    "print(str1)\n",
    "\n",
    "a = str1.split(',')\n",
    "a.pop(0)\n",
    "print(a)\n",
    "\n",
    "i = 0\n",
    "for j in a:\n",
    "    print(len(j))\n",
    "    i = i + 1"
   ]
  },
  {
   "cell_type": "code",
   "execution_count": 12,
   "metadata": {},
   "outputs": [
    {
     "name": "stdout",
     "output_type": "stream",
     "text": [
      "['常規聯賽', '附加賽', '常規聯賽', '附加賽', '北部聯賽', '南部聯賽']\n",
      "['瑞典超級聯賽', '瑞典甲級聯賽', '瑞典乙級聯賽', '瑞典盃', '瑞典超級盃']\n"
     ]
    }
   ],
   "source": [
    "print(lid_name_all)\n",
    "print(header)"
   ]
  },
  {
   "cell_type": "code",
   "execution_count": 13,
   "metadata": {},
   "outputs": [
    {
     "name": "stdout",
     "output_type": "stream",
     "text": [
      "瑞典超級聯賽\n",
      "0\n",
      "1\n",
      "['瑞典超級聯賽常規聯賽', '瑞典超級聯賽附加賽']\n",
      "瑞典甲級聯賽\n",
      "3\n",
      "4\n",
      "['瑞典超級聯賽常規聯賽', '瑞典超級聯賽附加賽', '瑞典甲級聯賽常規聯賽', '瑞典甲級聯賽附加賽']\n",
      "瑞典乙級聯賽\n",
      "6\n",
      "7\n",
      "['瑞典超級聯賽常規聯賽', '瑞典超級聯賽附加賽', '瑞典甲級聯賽常規聯賽', '瑞典甲級聯賽附加賽', '瑞典乙級聯賽北部聯賽', '瑞典乙級聯賽南部聯賽']\n",
      "瑞典盃\n",
      "['瑞典超級聯賽常規聯賽', '瑞典超級聯賽附加賽', '瑞典甲級聯賽常規聯賽', '瑞典甲級聯賽附加賽', '瑞典乙級聯賽北部聯賽', '瑞典乙級聯賽南部聯賽']\n",
      "瑞典超級盃\n"
     ]
    },
    {
     "ename": "IndexError",
     "evalue": "list index out of range",
     "output_type": "error",
     "traceback": [
      "\u001b[1;31m---------------------------------------------------------------------------\u001b[0m",
      "\u001b[1;31mIndexError\u001b[0m                                Traceback (most recent call last)",
      "\u001b[1;32m<ipython-input-13-c68a0b3c75b7>\u001b[0m in \u001b[0;36m<module>\u001b[1;34m\u001b[0m\n\u001b[0;32m      4\u001b[0m         \u001b[0mhead\u001b[0m \u001b[1;33m=\u001b[0m \u001b[0mlid_name\u001b[0m\u001b[1;33m[\u001b[0m\u001b[0mi\u001b[0m\u001b[1;33m]\u001b[0m\u001b[1;33m\u001b[0m\u001b[1;33m\u001b[0m\u001b[0m\n\u001b[0;32m      5\u001b[0m         \u001b[0mprint\u001b[0m\u001b[1;33m(\u001b[0m\u001b[0mhead\u001b[0m\u001b[1;33m)\u001b[0m\u001b[1;33m\u001b[0m\u001b[1;33m\u001b[0m\u001b[0m\n\u001b[1;32m----> 6\u001b[1;33m         \u001b[1;32mwhile\u001b[0m \u001b[0mlist\u001b[0m\u001b[1;33m[\u001b[0m\u001b[0mi\u001b[0m\u001b[1;33m+\u001b[0m\u001b[1;36m1\u001b[0m\u001b[1;33m]\u001b[0m \u001b[1;33m!=\u001b[0m \u001b[1;36m1\u001b[0m\u001b[1;33m:\u001b[0m\u001b[1;33m\u001b[0m\u001b[1;33m\u001b[0m\u001b[0m\n\u001b[0m\u001b[0;32m      7\u001b[0m             \u001b[0mprint\u001b[0m\u001b[1;33m(\u001b[0m\u001b[0mi\u001b[0m\u001b[1;33m)\u001b[0m\u001b[1;33m\u001b[0m\u001b[1;33m\u001b[0m\u001b[0m\n\u001b[0;32m      8\u001b[0m             \u001b[0mtemp\u001b[0m\u001b[1;33m.\u001b[0m\u001b[0mappend\u001b[0m\u001b[1;33m(\u001b[0m\u001b[0mhead\u001b[0m \u001b[1;33m+\u001b[0m \u001b[0mlid_name\u001b[0m\u001b[1;33m[\u001b[0m\u001b[0mi\u001b[0m\u001b[1;33m+\u001b[0m\u001b[1;36m1\u001b[0m\u001b[1;33m]\u001b[0m\u001b[1;33m)\u001b[0m\u001b[1;33m\u001b[0m\u001b[1;33m\u001b[0m\u001b[0m\n",
      "\u001b[1;31mIndexError\u001b[0m: list index out of range"
     ]
    }
   ],
   "source": [
    "temp = []\n",
    "for i in range(len(list)):\n",
    "    if list[i] == 1:\n",
    "        head = lid_name[i]\n",
    "        print(head)\n",
    "        while list[i+1] != 1:\n",
    "            print(i)\n",
    "            temp.append(head + lid_name[i+1])\n",
    "#             list.pop(0)\n",
    "    #             header.remove(head)\n",
    "            i += 1\n",
    "        print(temp)\n",
    "\n",
    "print(header)"
   ]
  },
  {
   "cell_type": "code",
   "execution_count": 14,
   "metadata": {},
   "outputs": [
    {
     "name": "stdout",
     "output_type": "stream",
     "text": [
      "['瑞典超級聯賽常規聯賽', '瑞典超級聯賽附加賽', '瑞典甲級聯賽常規聯賽', '瑞典甲級聯賽附加賽', '瑞典乙級聯賽北部聯賽', '瑞典乙級聯賽南部聯賽']\n"
     ]
    }
   ],
   "source": [
    "print(temp)"
   ]
  },
  {
   "cell_type": "code",
   "execution_count": 15,
   "metadata": {},
   "outputs": [],
   "source": [
    "i = 0\n",
    "for j in a:\n",
    "    if len(j) == 1 :\n",
    "        temp.append(header[i])\n",
    "    i = i + 1"
   ]
  },
  {
   "cell_type": "code",
   "execution_count": 16,
   "metadata": {},
   "outputs": [
    {
     "name": "stdout",
     "output_type": "stream",
     "text": [
      "['瑞典超級聯賽常規聯賽', '瑞典超級聯賽附加賽', '瑞典甲級聯賽常規聯賽', '瑞典甲級聯賽附加賽', '瑞典乙級聯賽北部聯賽', '瑞典乙級聯賽南部聯賽', '瑞典盃', '瑞典超級盃']\n"
     ]
    }
   ],
   "source": [
    "print(temp)"
   ]
  },
  {
   "cell_type": "code",
   "execution_count": null,
   "metadata": {},
   "outputs": [],
   "source": []
  },
  {
   "cell_type": "code",
   "execution_count": null,
   "metadata": {},
   "outputs": [],
   "source": []
  },
  {
   "cell_type": "code",
   "execution_count": null,
   "metadata": {},
   "outputs": [],
   "source": [
    "aList = [123, 'xyz', 'zara', 'abc', 'xyz'];\n",
    "\n",
    "aList.remove('xyz');\n",
    "print(\"List : \", aList);\n",
    "aList.remove('abc');\n",
    "print(\"List : \", aList);"
   ]
  }
 ],
 "metadata": {
  "kernelspec": {
   "display_name": "Python 3",
   "language": "python",
   "name": "python3"
  },
  "language_info": {
   "codemirror_mode": {
    "name": "ipython",
    "version": 3
   },
   "file_extension": ".py",
   "mimetype": "text/x-python",
   "name": "python",
   "nbconvert_exporter": "python",
   "pygments_lexer": "ipython3",
   "version": "3.7.3"
  }
 },
 "nbformat": 4,
 "nbformat_minor": 2
}
