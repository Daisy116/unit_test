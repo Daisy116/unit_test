{
 "cells": [
  {
   "cell_type": "code",
   "execution_count": null,
   "metadata": {},
   "outputs": [],
   "source": [
    "from selenium import webdriver\n",
    "from bs4 import BeautifulSoup\n",
    "from openpyxl import Workbook\n",
    "\n",
    "browser = webdriver.Chrome('./chromedriver')\n",
    "browser.get('http://odds.gooooal.com/fb_match.html?mid=1533684&type=1')\n",
    "soup = BeautifulSoup(browser.page_source)\n",
    "\n",
    "wb = Workbook()\n",
    "# sheet_page = str(i)\n",
    "ws = wb.active\n",
    "ws.append(['公司名稱', '主隊水位', '客隊水位'])\n",
    "for e2 in soup.select('.oddsLogLeft .font24'):\n",
    "    title = e2.text\n",
    "for e2 in soup.select('.oddsLogRight .font24'):\n",
    "    title = title + 'vs' + e2.text\n",
    "ws.title = title\n",
    "\n",
    "sp = soup.select('tr[id^=tr_asia_] .tdLine1+ .tdLine1 a')\n",
    "sp2 = soup.select('tr[id^=tr_asia_] .li01:nth-child(1) .oddsPopHover')\n",
    "# sp2 = soup.select('td[id^=td_asian_pop_]')\n",
    "sp3 = soup.select('tr[id^=tr_asia_] .li02+ .li01 .oddsPopHover')\n",
    "\n",
    "\n",
    "i = 2\n",
    "for s in sp:\n",
    "    if s.find('span'):\n",
    "        s.find('span').extract()\n",
    "#     print(s.text)\n",
    "    ws.cell(row = i, column = 1, value = s.text)\n",
    "    i = i + 1\n",
    "\n",
    "i = 2\n",
    "for s in sp2:\n",
    "    print(s.text)\n",
    "    ws.cell(row = i, column = 2, value = s.text)\n",
    "    i = i + 1\n",
    "\n",
    "i = 2\n",
    "for s in sp3:\n",
    "#     print(s.text)\n",
    "    ws.cell(row = i, column = 3, value = s.text)\n",
    "    i = i + 1\n",
    "    \n",
    "browser.close()\n",
    "wb.save('odd_ok.xlsx')"
   ]
  }
 ],
 "metadata": {
  "kernelspec": {
   "display_name": "Python 3",
   "language": "python",
   "name": "python3"
  },
  "language_info": {
   "codemirror_mode": {
    "name": "ipython",
    "version": 3
   },
   "file_extension": ".py",
   "mimetype": "text/x-python",
   "name": "python",
   "nbconvert_exporter": "python",
   "pygments_lexer": "ipython3",
   "version": "3.6.8"
  }
 },
 "nbformat": 4,
 "nbformat_minor": 2
}
